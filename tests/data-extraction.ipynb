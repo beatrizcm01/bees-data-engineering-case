{
 "cells": [
  {
   "cell_type": "code",
   "execution_count": 1,
   "id": "31dd3e09",
   "metadata": {},
   "outputs": [],
   "source": [
    "import requests\n",
    "import time\n",
    "from pyspark.sql import Row, SparkSession\n",
    "import boto3\n",
    "import os\n",
    "import sys\n",
    "from datetime import datetime"
   ]
  },
  {
   "cell_type": "code",
   "execution_count": 2,
   "id": "a2ffa20f",
   "metadata": {},
   "outputs": [],
   "source": [
    "date_of_extraction = datetime.today().strftime('%Y-%m-%d')\n",
    "\n",
    "# Setting the enviroment variables\n",
    "\n",
    "os.environ['PYSPARK_PYTHON'] = sys.executable\n",
    "os.environ['PYSPARK_DRIVER_PYTHON'] = sys.executable"
   ]
  },
  {
   "cell_type": "markdown",
   "id": "2fd29e16",
   "metadata": {},
   "source": [
    "# Data Extraction"
   ]
  },
  {
   "cell_type": "code",
   "execution_count": 3,
   "id": "694d0be8",
   "metadata": {},
   "outputs": [],
   "source": [
    "def fetch_data(current_page_number: int):\n",
    "    start_time = time.time()\n",
    "\n",
    "    url = f'https://api.openbrewerydb.org/v1/breweries?page={current_page_number}&per_page=200'\n",
    "    s = requests.Session()\n",
    "    response = s.get(url)\n",
    "\n",
    "    if response.status_code != 200:\n",
    "        raise Exception(response.status_code)\n",
    "    elif response.status_code == 200:\n",
    "        try:\n",
    "            raw = response.json()  \n",
    "\n",
    "            end_time = time.time() - start_time\n",
    "            print(f'Fetched data for page {current_page_number}. \\nRunning time: {end_time}s.')\n",
    "\n",
    "\n",
    "            # proceeds to retrieve data until the resulting json is empty\n",
    "            if len(raw) != 0:\n",
    "                current_page_number = current_page_number + 1\n",
    "                return raw + fetch_data(current_page_number)\n",
    "            \n",
    "            print(f'There is no data for page {current_page_number}. Extracting process finalized.')\n",
    "            print(f'Max number of pages retrieved: {current_page_number -1}')\n",
    "            return raw \n",
    "        except Exception as e:\n",
    "            print(e)"
   ]
  },
  {
   "cell_type": "code",
   "execution_count": 4,
   "id": "7e761ce0",
   "metadata": {},
   "outputs": [
    {
     "name": "stdout",
     "output_type": "stream",
     "text": [
      "Fetched data for page 1. \n",
      "Running time: 1.1576762199401855s.\n",
      "Fetched data for page 2. \n",
      "Running time: 0.9486334323883057s.\n",
      "Fetched data for page 3. \n",
      "Running time: 0.8632240295410156s.\n",
      "Fetched data for page 4. \n",
      "Running time: 0.9171068668365479s.\n",
      "Fetched data for page 5. \n",
      "Running time: 0.8481121063232422s.\n",
      "Fetched data for page 6. \n",
      "Running time: 0.8677489757537842s.\n",
      "Fetched data for page 7. \n",
      "Running time: 0.8558189868927002s.\n",
      "Fetched data for page 8. \n",
      "Running time: 0.8929159641265869s.\n",
      "Fetched data for page 9. \n",
      "Running time: 0.9343464374542236s.\n",
      "Fetched data for page 10. \n",
      "Running time: 0.7315497398376465s.\n",
      "Fetched data for page 11. \n",
      "Running time: 0.9041745662689209s.\n",
      "Fetched data for page 12. \n",
      "Running time: 0.8837871551513672s.\n",
      "Fetched data for page 13. \n",
      "Running time: 0.8749206066131592s.\n",
      "Fetched data for page 14. \n",
      "Running time: 0.8571064472198486s.\n",
      "Fetched data for page 15. \n",
      "Running time: 0.9262397289276123s.\n",
      "Fetched data for page 16. \n",
      "Running time: 0.8730511665344238s.\n",
      "Fetched data for page 17. \n",
      "Running time: 0.863823652267456s.\n",
      "Fetched data for page 18. \n",
      "Running time: 0.7883493900299072s.\n",
      "Fetched data for page 19. \n",
      "Running time: 0.8925974369049072s.\n",
      "Fetched data for page 20. \n",
      "Running time: 0.8654263019561768s.\n",
      "Fetched data for page 21. \n",
      "Running time: 0.8809173107147217s.\n",
      "Fetched data for page 22. \n",
      "Running time: 0.8997211456298828s.\n",
      "Fetched data for page 23. \n",
      "Running time: 0.9023568630218506s.\n",
      "Fetched data for page 24. \n",
      "Running time: 0.8461182117462158s.\n",
      "Fetched data for page 25. \n",
      "Running time: 0.9213738441467285s.\n",
      "Fetched data for page 26. \n",
      "Running time: 0.8198680877685547s.\n",
      "Fetched data for page 27. \n",
      "Running time: 0.9168627262115479s.\n",
      "Fetched data for page 28. \n",
      "Running time: 0.9333314895629883s.\n",
      "Fetched data for page 29. \n",
      "Running time: 0.9050686359405518s.\n",
      "Fetched data for page 30. \n",
      "Running time: 0.8532061576843262s.\n",
      "Fetched data for page 31. \n",
      "Running time: 0.9300403594970703s.\n",
      "Fetched data for page 32. \n",
      "Running time: 0.8743288516998291s.\n",
      "Fetched data for page 33. \n",
      "Running time: 0.8978979587554932s.\n",
      "Fetched data for page 34. \n",
      "Running time: 0.8949985504150391s.\n",
      "Fetched data for page 35. \n",
      "Running time: 0.8341436386108398s.\n",
      "Fetched data for page 36. \n",
      "Running time: 0.831627607345581s.\n",
      "Fetched data for page 37. \n",
      "Running time: 0.8507070541381836s.\n",
      "Fetched data for page 38. \n",
      "Running time: 0.8809542655944824s.\n",
      "Fetched data for page 39. \n",
      "Running time: 0.8943243026733398s.\n",
      "Fetched data for page 40. \n",
      "Running time: 0.9032652378082275s.\n",
      "Fetched data for page 41. \n",
      "Running time: 0.891345739364624s.\n",
      "Fetched data for page 42. \n",
      "Running time: 0.8934893608093262s.\n",
      "Fetched data for page 43. \n",
      "Running time: 0.7075037956237793s.\n",
      "There is no data for page 43. Extracting process finalized.\n",
      "Max number of pages retrieved: 42\n"
     ]
    }
   ],
   "source": [
    "raw_data = fetch_data(1)"
   ]
  },
  {
   "cell_type": "code",
   "execution_count": 5,
   "id": "9d5641ff",
   "metadata": {},
   "outputs": [],
   "source": [
    "spark = SparkSession.builder \\\n",
    "    .appName(\"DataFrame\") \\\n",
    "    .config(\"spark.jars.packages\", \"org.apache.hadoop:hadoop-aws:3.3.4,com.amazonaws:aws-java-sdk-bundle:1.12.520\") \\\n",
    "    .config(\"spark.hadoop.fs.s3a.aws.credentials.provider\", \n",
    "            \"com.amazonaws.auth.DefaultAWSCredentialsProviderChain\") \\\n",
    "    .getOrCreate()\n",
    "\n",
    "df = spark.createDataFrame(Row(**x) for x in raw_data) # insert the raw data into a DataFrame"
   ]
  },
  {
   "cell_type": "markdown",
   "id": "530f66c8",
   "metadata": {},
   "source": [
    "# Inserting into S3 Bucket"
   ]
  },
  {
   "cell_type": "code",
   "execution_count": 6,
   "id": "ebed0cfa",
   "metadata": {},
   "outputs": [],
   "source": [
    "client = boto3.client('s3')\n",
    "df.coalesce(1).write.parquet(f\"s3a://openbrewerydb-bronze-layer/{date_of_extraction}\", mode=\"overwrite\")"
   ]
  }
 ],
 "metadata": {
  "kernelspec": {
   "display_name": ".venv",
   "language": "python",
   "name": "python3"
  },
  "language_info": {
   "codemirror_mode": {
    "name": "ipython",
    "version": 3
   },
   "file_extension": ".py",
   "mimetype": "text/x-python",
   "name": "python",
   "nbconvert_exporter": "python",
   "pygments_lexer": "ipython3",
   "version": "3.9.4"
  }
 },
 "nbformat": 4,
 "nbformat_minor": 5
}
