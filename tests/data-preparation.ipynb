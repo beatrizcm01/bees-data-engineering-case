{
 "cells": [
  {
   "cell_type": "code",
   "execution_count": 15,
   "id": "9790893f",
   "metadata": {},
   "outputs": [],
   "source": [
    "import requests\n",
    "import time\n",
    "from pyspark.sql import SparkSession\n",
    "from pyspark.sql.functions import col, when, coalesce\n",
    "import boto3\n",
    "import os\n",
    "import sys\n",
    "from datetime import datetime"
   ]
  },
  {
   "cell_type": "code",
   "execution_count": 2,
   "id": "c146ea29",
   "metadata": {},
   "outputs": [],
   "source": [
    "folder_name = datetime.today().strftime('%Y-%m-%d')\n",
    "origin_bucket_name = 'openbrewerydb-bronze-layer'\n",
    "destination_bucket_name = 'openbrewerydb-silver-layer'"
   ]
  },
  {
   "cell_type": "code",
   "execution_count": 3,
   "id": "9da99888",
   "metadata": {},
   "outputs": [],
   "source": [
    "spark = SparkSession.builder \\\n",
    "    .appName(\"DataFrame\") \\\n",
    "    .config(\"spark.jars.packages\", \"org.apache.hadoop:hadoop-aws:3.3.4,com.amazonaws:aws-java-sdk-bundle:1.12.520\") \\\n",
    "    .config(\"spark.hadoop.fs.s3a.aws.credentials.provider\", \n",
    "            \"com.amazonaws.auth.DefaultAWSCredentialsProviderChain\") \\\n",
    "    .getOrCreate()"
   ]
  },
  {
   "cell_type": "code",
   "execution_count": 4,
   "id": "9fa83da4",
   "metadata": {},
   "outputs": [],
   "source": [
    "df = spark.read.parquet(f\"s3a://{origin_bucket_name}/{folder_name}\")"
   ]
  },
  {
   "cell_type": "code",
   "execution_count": 21,
   "id": "73d19a6d",
   "metadata": {},
   "outputs": [
    {
     "name": "stdout",
     "output_type": "stream",
     "text": [
      "+--------------------+--------------------+------------+--------------------+---------+---------+--------------+--------------+-----------+-------------+----------------+---------------+------------+--------------------+-------------+--------------------+\n",
      "|                  id|                name|brewery_type|           address_1|address_2|address_3|          city|state_province|postal_code|      country|       longitude|       latitude|       phone|         website_url|        state|              street|\n",
      "+--------------------+--------------------+------------+--------------------+---------+---------+--------------+--------------+-----------+-------------+----------------+---------------+------------+--------------------+-------------+--------------------+\n",
      "|5128df48-79fc-4f0...|    (405) Brewing Co|       micro|      1716 Topeka St|     NULL|     NULL|        Norman|      Oklahoma| 73069-8224|United States|    -97.46818222|    35.25738891|  4058160490|http://www.405bre...|     Oklahoma|      1716 Topeka St|\n",
      "|9c5a66c8-cc13-416...|    (512) Brewing Co|       micro|407 Radam Ln Ste ...|     NULL|     NULL|        Austin|         Texas| 78745-1197|United States|            NULL|           NULL|  5129211545|http://www.512bre...|        Texas|407 Radam Ln Ste ...|\n",
      "|34e8c68b-6146-453...|1 of Us Brewing C...|       micro| 8100 Washington Ave|     NULL|     NULL|Mount Pleasant|     Wisconsin| 53406-3920|United States|-87.883363502094|42.720108268996|  2624847553|https://www.1ofus...|    Wisconsin| 8100 Washington Ave|\n",
      "|6d14b220-8926-452...|10 Barrel Brewing Co|       large|       62970 18th St|     NULL|     NULL|          Bend|        Oregon| 97701-9847|United States|     -121.281706|    44.08683531|  5415851007|http://www.10barr...|       Oregon|       62970 18th St|\n",
      "|e2e78bd8-80ff-4a6...|10 Barrel Brewing Co|       large|1135 NW Galveston...|     NULL|     NULL|          Bend|        Oregon| 97703-2465|United States|    -121.3288021|     44.0575649|  5415851007|                NULL|       Oregon|1135 NW Galveston...|\n",
      "|e432899b-7f58-455...|10 Barrel Brewing Co|       large| 1411 NW Flanders St|     NULL|     NULL|      Portland|        Oregon| 97209-2620|United States|    -122.6855056|     45.5259786|  5032241700|http://www.10barr...|       Oregon| 1411 NW Flanders St|\n",
      "|ef970757-fe42-416...|10 Barrel Brewing Co|       large|           1501 E St|     NULL|     NULL|     San Diego|    California| 92101-6618|United States|     -117.129593|      32.714813|  6195782311| http://10barrel.com|   California|           1501 E St|\n",
      "|9f1852da-c312-42d...|10 Barrel Brewing...|       large|    62950 NE 18th St|     NULL|     NULL|          Bend|        Oregon|      97701|United States|    -121.2809536|     44.0912109|  5415851007|                NULL|       Oregon|    62950 NE 18th St|\n",
      "|ea4f30c0-bce6-416...|10 Barrel Brewing...|       large|    826 W Bannock St|     NULL|     NULL|         Boise|         Idaho| 83702-5857|United States|     -116.202929|      43.618516|  2083445870|http://www.10barr...|        Idaho|    826 W Bannock St|\n",
      "|1988eb86-f0a2-467...|10 Barrel Brewing...|       large|      2620 Walnut St|     NULL|     NULL|        Denver|      Colorado| 80205-2231|United States|    -104.9853655|     39.7592508|  7205738992|                NULL|     Colorado|      2620 Walnut St|\n",
      "|1ecc330f-6275-42a...|10 Torr Distillin...|       micro|         490 Mill St|     NULL|     NULL|          Reno|        Nevada|      89502|United States|    -119.7732015|     39.5171702|  7755307014|http://www.10torr...|       Nevada|         490 Mill St|\n",
      "|7531dbd8-afc9-4b5...|10-56 Brewing Com...|       micro|       400 Brown Cir|     NULL|     NULL|          Knox|       Indiana|      46534|United States|      -86.627954|      41.289715|  6308165790|                NULL|      Indiana|       400 Brown Cir|\n",
      "|5ae467af-66dc-4d7...|101 North Brewing...|      closed| 1304 Scott St Ste D|     NULL|     NULL|      Petaluma|    California| 94954-7100|United States|     -122.665055|    38.27029381|  7077534934|http://www.101nor...|   California| 1304 Scott St Ste D|\n",
      "|4ffda196-dd59-44a...| 105 West Brewing Co|       micro|        1043 Park St|     NULL|     NULL|   Castle Rock|      Colorado| 80109-1585|United States|    -104.8667206|    39.38269495|  3033257321|http://www.105wes...|     Colorado|        1043 Park St|\n",
      "|42aa37d5-8384-4ff...|         10K Brewing|       micro|        2005 2nd Ave|     NULL|     NULL|         Anoka|     Minnesota| 55303-2243|United States|    -93.38952559|    45.19812039|  7633924753|  http://10KBrew.com|    Minnesota|        2005 2nd Ave|\n",
      "|232e8f62-9afc-45f...|10th District Bre...|       micro|   491 Washington St|     NULL|     NULL|      Abington| Massachusetts| 02351-2419|United States|    -70.94594149|    42.10591754|  7813071554|http://www.10thdi...|Massachusetts|   491 Washington St|\n",
      "|08f78223-24f8-4b7...|11 Below Brewing ...|       micro|   6820 Bourgeois Rd|     NULL|     NULL|       Houston|         Texas| 77066-3107|United States|     -95.5186591|     29.9515464|  2814442337|http://www.11belo...|        Texas|   6820 Bourgeois Rd|\n",
      "|58293321-14ae-49d...|     1188 Brewing Co|     brewpub|       141 E Main St|     NULL|     NULL|      John Day|        Oregon| 97845-1210|United States|    -118.9218754|     44.4146563|  5415751188|http://www.1188br...|       Oregon|       141 E Main St|\n",
      "|e5f3e72a-fee2-481...|12 Acres Brewing ...|       micro|      Unnamed Street| Clonmore|     NULL|     Killeshin|         Laois|   R93 X3X8|      Ireland|    -6.979343891|    52.84930763|353599107299|https://12acresbr...|        Laois|      Unnamed Street|\n",
      "|d81ff708-b5d2-478...|12 Gates Brewing ...|     brewpub|80 Earhart Dr Ste 20|     NULL|     NULL| Williamsville|      New York| 14221-7804|United States|            NULL|           NULL|  7169066600|http://www.12gate...|     New York|80 Earhart Dr Ste 20|\n",
      "+--------------------+--------------------+------------+--------------------+---------+---------+--------------+--------------+-----------+-------------+----------------+---------------+------------+--------------------+-------------+--------------------+\n",
      "only showing top 20 rows\n",
      "\n"
     ]
    }
   ],
   "source": [
    "df.show()"
   ]
  },
  {
   "cell_type": "code",
   "execution_count": 23,
   "id": "5a53ffe9",
   "metadata": {},
   "outputs": [
    {
     "name": "stdout",
     "output_type": "stream",
     "text": [
      "+--------------------+--------------------+------------+-------------+-------------+--------------+-----------+--------------------+--------------------+---------+---------+----------------+---------------+------------+--------------------+\n",
      "|                  id|                name|brewery_type|      country|       region|          city|postal_code|              street|           address_1|address_2|address_3|       longitude|       latitude|       phone|         website_url|\n",
      "+--------------------+--------------------+------------+-------------+-------------+--------------+-----------+--------------------+--------------------+---------+---------+----------------+---------------+------------+--------------------+\n",
      "|5128df48-79fc-4f0...|    (405) Brewing Co|       micro|United States|     Oklahoma|        Norman| 73069-8224|      1716 Topeka St|      1716 Topeka St|     NULL|     NULL|    -97.46818222|    35.25738891|  4058160490|http://www.405bre...|\n",
      "|9c5a66c8-cc13-416...|    (512) Brewing Co|       micro|United States|        Texas|        Austin| 78745-1197|407 Radam Ln Ste ...|407 Radam Ln Ste ...|     NULL|     NULL|            NULL|           NULL|  5129211545|http://www.512bre...|\n",
      "|34e8c68b-6146-453...|1 of Us Brewing C...|       micro|United States|    Wisconsin|Mount Pleasant| 53406-3920| 8100 Washington Ave| 8100 Washington Ave|     NULL|     NULL|-87.883363502094|42.720108268996|  2624847553|https://www.1ofus...|\n",
      "|6d14b220-8926-452...|10 Barrel Brewing Co|       large|United States|       Oregon|          Bend| 97701-9847|       62970 18th St|       62970 18th St|     NULL|     NULL|     -121.281706|    44.08683531|  5415851007|http://www.10barr...|\n",
      "|e2e78bd8-80ff-4a6...|10 Barrel Brewing Co|       large|United States|       Oregon|          Bend| 97703-2465|1135 NW Galveston...|1135 NW Galveston...|     NULL|     NULL|    -121.3288021|     44.0575649|  5415851007|                NULL|\n",
      "|e432899b-7f58-455...|10 Barrel Brewing Co|       large|United States|       Oregon|      Portland| 97209-2620| 1411 NW Flanders St| 1411 NW Flanders St|     NULL|     NULL|    -122.6855056|     45.5259786|  5032241700|http://www.10barr...|\n",
      "|ef970757-fe42-416...|10 Barrel Brewing Co|       large|United States|   California|     San Diego| 92101-6618|           1501 E St|           1501 E St|     NULL|     NULL|     -117.129593|      32.714813|  6195782311| http://10barrel.com|\n",
      "|9f1852da-c312-42d...|10 Barrel Brewing...|       large|United States|       Oregon|          Bend|      97701|    62950 NE 18th St|    62950 NE 18th St|     NULL|     NULL|    -121.2809536|     44.0912109|  5415851007|                NULL|\n",
      "|ea4f30c0-bce6-416...|10 Barrel Brewing...|       large|United States|        Idaho|         Boise| 83702-5857|    826 W Bannock St|    826 W Bannock St|     NULL|     NULL|     -116.202929|      43.618516|  2083445870|http://www.10barr...|\n",
      "|1988eb86-f0a2-467...|10 Barrel Brewing...|       large|United States|     Colorado|        Denver| 80205-2231|      2620 Walnut St|      2620 Walnut St|     NULL|     NULL|    -104.9853655|     39.7592508|  7205738992|                NULL|\n",
      "|1ecc330f-6275-42a...|10 Torr Distillin...|       micro|United States|       Nevada|          Reno|      89502|         490 Mill St|         490 Mill St|     NULL|     NULL|    -119.7732015|     39.5171702|  7755307014|http://www.10torr...|\n",
      "|7531dbd8-afc9-4b5...|10-56 Brewing Com...|       micro|United States|      Indiana|          Knox|      46534|       400 Brown Cir|       400 Brown Cir|     NULL|     NULL|      -86.627954|      41.289715|  6308165790|                NULL|\n",
      "|5ae467af-66dc-4d7...|101 North Brewing...|      closed|United States|   California|      Petaluma| 94954-7100| 1304 Scott St Ste D| 1304 Scott St Ste D|     NULL|     NULL|     -122.665055|    38.27029381|  7077534934|http://www.101nor...|\n",
      "|4ffda196-dd59-44a...| 105 West Brewing Co|       micro|United States|     Colorado|   Castle Rock| 80109-1585|        1043 Park St|        1043 Park St|     NULL|     NULL|    -104.8667206|    39.38269495|  3033257321|http://www.105wes...|\n",
      "|42aa37d5-8384-4ff...|         10K Brewing|       micro|United States|    Minnesota|         Anoka| 55303-2243|        2005 2nd Ave|        2005 2nd Ave|     NULL|     NULL|    -93.38952559|    45.19812039|  7633924753|  http://10KBrew.com|\n",
      "|232e8f62-9afc-45f...|10th District Bre...|       micro|United States|Massachusetts|      Abington| 02351-2419|   491 Washington St|   491 Washington St|     NULL|     NULL|    -70.94594149|    42.10591754|  7813071554|http://www.10thdi...|\n",
      "|08f78223-24f8-4b7...|11 Below Brewing ...|       micro|United States|        Texas|       Houston| 77066-3107|   6820 Bourgeois Rd|   6820 Bourgeois Rd|     NULL|     NULL|     -95.5186591|     29.9515464|  2814442337|http://www.11belo...|\n",
      "|58293321-14ae-49d...|     1188 Brewing Co|     brewpub|United States|       Oregon|      John Day| 97845-1210|       141 E Main St|       141 E Main St|     NULL|     NULL|    -118.9218754|     44.4146563|  5415751188|http://www.1188br...|\n",
      "|e5f3e72a-fee2-481...|12 Acres Brewing ...|       micro|      Ireland|        Laois|     Killeshin|   R93 X3X8|      Unnamed Street|      Unnamed Street| Clonmore|     NULL|    -6.979343891|    52.84930763|353599107299|https://12acresbr...|\n",
      "|d81ff708-b5d2-478...|12 Gates Brewing ...|     brewpub|United States|     New York| Williamsville| 14221-7804|80 Earhart Dr Ste 20|80 Earhart Dr Ste 20|     NULL|     NULL|            NULL|           NULL|  7169066600|http://www.12gate...|\n",
      "+--------------------+--------------------+------------+-------------+-------------+--------------+-----------+--------------------+--------------------+---------+---------+----------------+---------------+------------+--------------------+\n",
      "only showing top 20 rows\n",
      "\n"
     ]
    }
   ],
   "source": [
    "coalesced_df = df.select(\"id\", \"name\", \"brewery_type\", \"country\",\n",
    "                          coalesce(col(\"state_province\"), col(\"state\")).alias(\"region\"),\n",
    "                          \"city\", \"postal_code\", \"street\", \"address_1\", \"address_2\",\n",
    "                          \"address_3\", \"longitude\", \"latitude\", \"phone\", \"website_url\")\n",
    "coalesced_df.show()"
   ]
  },
  {
   "cell_type": "code",
   "execution_count": 26,
   "id": "28ea6347",
   "metadata": {},
   "outputs": [],
   "source": [
    "partitioned_by_location_df = coalesced_df.repartition(\"country\", \"region\")\n",
    "partitioned_by_location_df.write.partitionBy(\"country\", \"region\").parquet(f\"s3a://{destination_bucket_name}/{folder_name}\",\n",
    "                                                                          mode='overwrite')"
   ]
  }
 ],
 "metadata": {
  "kernelspec": {
   "display_name": ".venv",
   "language": "python",
   "name": "python3"
  },
  "language_info": {
   "codemirror_mode": {
    "name": "ipython",
    "version": 3
   },
   "file_extension": ".py",
   "mimetype": "text/x-python",
   "name": "python",
   "nbconvert_exporter": "python",
   "pygments_lexer": "ipython3",
   "version": "3.9.4"
  }
 },
 "nbformat": 4,
 "nbformat_minor": 5
}
