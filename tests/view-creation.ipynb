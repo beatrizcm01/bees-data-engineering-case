{
 "cells": [
  {
   "cell_type": "code",
   "execution_count": 1,
   "id": "c5fa02ae",
   "metadata": {},
   "outputs": [],
   "source": [
    "import requests\n",
    "import time\n",
    "from pyspark.sql import SparkSession\n",
    "from pyspark.sql.functions import col, when, coalesce\n",
    "import boto3\n",
    "import os\n",
    "import sys\n",
    "from datetime import datetime"
   ]
  },
  {
   "cell_type": "code",
   "execution_count": 7,
   "id": "d9ae1142",
   "metadata": {},
   "outputs": [],
   "source": [
    "folder_name = datetime.today().strftime('%Y-%m-%d')\n",
    "origin_bucket_name = 's3a://openbrewerydb-silver-layer/'\n",
    "destination_bucket_name = 'openbrewerydb-gold-layer'"
   ]
  },
  {
   "cell_type": "code",
   "execution_count": 3,
   "id": "1c897852",
   "metadata": {},
   "outputs": [],
   "source": [
    "spark = SparkSession.builder \\\n",
    "    .appName(\"DataFrame\") \\\n",
    "    .config(\"spark.jars.packages\", \"org.apache.hadoop:hadoop-aws:3.3.4,com.amazonaws:aws-java-sdk-bundle:1.12.520\") \\\n",
    "    .config(\"spark.hadoop.fs.s3a.aws.credentials.provider\", \n",
    "            \"com.amazonaws.auth.DefaultAWSCredentialsProviderChain\") \\\n",
    "    .getOrCreate()"
   ]
  },
  {
   "cell_type": "code",
   "execution_count": 8,
   "id": "3f09caff",
   "metadata": {},
   "outputs": [],
   "source": [
    "df = spark.read.option(\"basePath\", origin_bucket_name).parquet(origin_bucket_name)"
   ]
  }
 ],
 "metadata": {
  "kernelspec": {
   "display_name": ".venv",
   "language": "python",
   "name": "python3"
  },
  "language_info": {
   "codemirror_mode": {
    "name": "ipython",
    "version": 3
   },
   "file_extension": ".py",
   "mimetype": "text/x-python",
   "name": "python",
   "nbconvert_exporter": "python",
   "pygments_lexer": "ipython3",
   "version": "3.9.4"
  }
 },
 "nbformat": 4,
 "nbformat_minor": 5
}
